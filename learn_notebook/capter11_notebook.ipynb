{
 "cells": [
  {
   "cell_type": "markdown",
   "metadata": {},
   "source": [
    "# 第11章：tensorflow"
   ]
  },
  {
   "cell_type": "markdown",
   "metadata": {},
   "source": [
    "### 11.1 开始使用jupyter notebook\n",
    "貌似有问题  \n",
    "问题已经解决  \n",
    "测试下放图片：\n",
    "![图片](http://localhost:8888/kernelspecs/python3/logo-64x64.png)"
   ]
  },
  {
   "cell_type": "markdown",
   "metadata": {},
   "source": [
    "### 11.2 将数据流数据写入磁盘"
   ]
  },
  {
   "cell_type": "code",
   "execution_count": 9,
   "metadata": {},
   "outputs": [
    {
     "name": "stdout",
     "output_type": "stream",
     "text": [
      "14\n"
     ]
    }
   ],
   "source": [
    "import tensorflow as tf\n",
    "\n",
    "a = tf.constant(4, name='input_a')\n",
    "b = tf.constant(2, name='input_b')\n",
    "c = tf.multiply(a, b, name='mul_c')\n",
    "d = tf.add(a, b, name='add_d')\n",
    "e = tf.add(c, d, name='add_e')\n",
    "with tf.Session() as sess:\n",
    "    print(sess.run(e))\n",
    "    writer = tf.summary.FileWriter(\n",
    "        '/mnt/d/documents/Projects/deeplearning/capter11')\n",
    "    writer.add_graph(sess.graph)\n"
   ]
  },
  {
   "cell_type": "markdown",
   "metadata": {},
   "source": [
    "### 11.3 TensorFlow中的rank（）函数"
   ]
  },
  {
   "cell_type": "code",
   "execution_count": 11,
   "metadata": {
    "scrolled": true
   },
   "outputs": [
    {
     "name": "stdout",
     "output_type": "stream",
     "text": [
      "3\n"
     ]
    }
   ],
   "source": [
    "import tensorflow as tf\n",
    "\n",
    "t = tf.constant([[[1, 1, 1], [2, 2, 2]], [[3, 3, 3], [4, 4, 4]]])\n",
    "tensor_rank = tf.rank(t)\n",
    "with tf.Session() as sess:\n",
    "    print(sess.run(tensor_rank))"
   ]
  },
  {
   "cell_type": "markdown",
   "metadata": {},
   "source": [
    "&emsp;&emsp;表示这是一个三维张量"
   ]
  },
  {
   "cell_type": "markdown",
   "metadata": {
    "slideshow": {
     "slide_type": "-"
    }
   },
   "source": [
    "### 11.4 TensorFlow中的shape()函数"
   ]
  },
  {
   "cell_type": "code",
   "execution_count": 13,
   "metadata": {},
   "outputs": [
    {
     "name": "stdout",
     "output_type": "stream",
     "text": [
      "[1 3 2 1]\n"
     ]
    }
   ],
   "source": [
    "import tensorflow as tf\n",
    "\n",
    "t = tf.constant(\n",
    "    [\n",
    "        [\n",
    "            [[1], [2]],\n",
    "            [[3], [4]],\n",
    "            [[5], [6]],\n",
    "        ],\n",
    "    ]\n",
    ")\n",
    "tensor_rank = tf.shape(t)\n",
    "with tf.Session() as sess:\n",
    "    print(sess.run(tensor_rank))"
   ]
  },
  {
   "cell_type": "markdown",
   "metadata": {},
   "source": [
    "&emsp;&emsp;表示这个张量各个维度所含有的标量的个数"
   ]
  },
  {
   "cell_type": "markdown",
   "metadata": {},
   "source": [
    "### 11.5 TensorFlow中的张量类型"
   ]
  },
  {
   "cell_type": "code",
   "execution_count": 1,
   "metadata": {},
   "outputs": [
    {
     "name": "stdout",
     "output_type": "stream",
     "text": [
      "20\n",
      "[b'Tenso' b'flow' b'is' b'great']\n",
      "[[ True False False]\n",
      " [False  True False]]\n"
     ]
    }
   ],
   "source": [
    "import tensorflow as tf\n",
    "import numpy as np\n",
    "\n",
    "n0 = np.array(20, dtype=np.int32)\n",
    "n1 = np.array([b'Tenso', b'flow', b'is', b'great'])\n",
    "n2 = np.array([\n",
    "    [True, False, False],\n",
    "    [False, True, False],\n",
    "], dtype=np.bool)\n",
    "tensor0D = tf.Variable(n0, name='t_0')\n",
    "tensor1D = tf.Variable(n1, name='t_1')\n",
    "tensor2D = tf.Variable(n2, name='t_2')\n",
    "# 初始化所有的张量：\n",
    "init_OP = tf.global_variables_initializer()\n",
    "with tf.Session() as sess:\n",
    "    sess.run(init_OP)\n",
    "    print(sess.run(tensor0D))\n",
    "    print(sess.run(tensor1D))\n",
    "    print(sess.run(tensor2D))"
   ]
  },
  {
   "cell_type": "markdown",
   "metadata": {},
   "source": [
    "&emsp;&emsp;必须使用以下代码来初始化设定好的张量，不然会报错：\n",
    "\n",
    "```python\n",
    "init_OP = tf.global_variables_initializer()\n",
    "with tf.Session() as sess:\n",
    "    sess.run(init_OP)\n",
    "```"
   ]
  },
  {
   "cell_type": "markdown",
   "metadata": {},
   "source": [
    "### 11.6 Python数组与张量类型的转换"
   ]
  },
  {
   "cell_type": "code",
   "execution_count": 17,
   "metadata": {},
   "outputs": [
    {
     "name": "stdout",
     "output_type": "stream",
     "text": [
      "<class 'list'>\n",
      "<class 'numpy.ndarray'>\n",
      "<class 'tensorflow.python.framework.ops.Tensor'>\n",
      "<class 'tensorflow.python.framework.ops.Tensor'>\n",
      "<class 'tensorflow.python.framework.ops.Tensor'>\n"
     ]
    }
   ],
   "source": [
    "import tensorflow as tf\n",
    "import numpy as np\n",
    "\n",
    "A = list([1, 2, 3])\n",
    "B = np.array([4, 5, 6], dtype=np.int32)\n",
    "# C=tf.convert_to_tensor(A)\n",
    "# D=tf.convert_to_tensor(B)\n",
    "E = tf.add(C, D)\n",
    "with tf.Session() as sess:\n",
    "    print(type(A))\n",
    "    print(type(B))\n",
    "    print(type(C))\n",
    "    print(type(D))\n",
    "    print(type(E))"
   ]
  },
  {
   "cell_type": "markdown",
   "metadata": {},
   "source": [
    "&emsp;&emsp;如果注释掉第5、6行，会在执行第7行的时候自动将C，D的数据类型进行转行，转行成tensorflow的数据类型，所以打印结果不变。"
   ]
  },
  {
   "cell_type": "markdown",
   "metadata": {},
   "source": [
    "### 11.9 创建多个图\n",
    "&emsp;&emsp;由于创建多个图自然包含了创建一个图，所以中间的一些内容就略过了。"
   ]
  },
  {
   "cell_type": "code",
   "execution_count": 18,
   "metadata": {},
   "outputs": [
    {
     "name": "stdout",
     "output_type": "stream",
     "text": [
      "<tensorflow.python.framework.ops.Graph object at 0x7f2f36e5d5c0>\n",
      "<tensorflow.python.framework.ops.Graph object at 0x7f2f36e5d5c0>\n",
      "None\n",
      "<tensorflow.python.framework.ops.Graph object at 0x7f2f36e5d5c0>\n",
      "<tensorflow.python.framework.ops.Graph object at 0x7f2f36e5d5c0>\n",
      "None\n"
     ]
    }
   ],
   "source": [
    "import tensorflow as tf\n",
    "import numpy as np\n",
    "\n",
    "# 声明两个图：\n",
    "g1 = tf.Graph()\n",
    "g2 = tf.Graph()\n",
    "# 建立两个session，分表初始化这两个图：\n",
    "with g1.as_default():\n",
    "    a = tf.constant(123)\n",
    "    print(a.graph)\n",
    "    print(tf.get_default_graph())\n",
    "    print(tf.get_default_session())\n",
    "\n",
    "with g1.as_default():\n",
    "    b = tf.multiply(2, 3)\n",
    "    print(a.graph)\n",
    "    print(tf.get_default_graph())\n",
    "    print(tf.get_default_session())\n"
   ]
  },
  {
   "cell_type": "markdown",
   "metadata": {},
   "source": [
    "&emsp;&emsp;`tf.get_default_graph()`和`tf.get_default_session()`分别是获取当前默认的图和Session（会话，tensorflow通过会话将python命令与C++底层链接在一起执行相应运算)"
   ]
  },
  {
   "cell_type": "markdown",
   "metadata": {},
   "source": [
    "### 11.11 Session的run()方法\n",
    "&emsp;&emsp;此处将fetch参数和feed_dict参数一起记录，也即是将11.10和11.11合并。  \n",
    "&emsp;&emsp;`run()`方法的第一个参数是fetch，表示你要执行的操作或者要返回的数据。如果是操作，也就是OP返回值为None；如果是变量将返回变量的值。  \n",
    "&emsp;&emsp;`run()`的第二个参数是feed_dict，用于改变一个已经生命的张量的值，传入张量名和字典即可。经常配合占位符`placeholder`使用，非常强大。"
   ]
  },
  {
   "cell_type": "code",
   "execution_count": 11,
   "metadata": {
    "scrolled": false
   },
   "outputs": [
    {
     "name": "stdout",
     "output_type": "stream",
     "text": [
      "[10 20]\n",
      "[array([10, 20], dtype=int32), array([1., 2.], dtype=float32)]\n",
      "None\n",
      "6\n",
      "400\n"
     ]
    }
   ],
   "source": [
    "import tensorflow as tf\n",
    "\n",
    "a0 = tf.constant([10, 20])\n",
    "b0 = tf.constant([1.0, 2.0], name='b0')\n",
    "a1 = tf.add(1, 2)\n",
    "b1 = tf.multiply(a1, 2)\n",
    "with tf.Session() as session:\n",
    "    v1 = session.run(a0)\n",
    "    print(v1)\n",
    "    v2 = session.run([a0, b0])\n",
    "    print(v2)\n",
    "    v3 = session.run(tf.global_variables_initializer())\n",
    "    print(v3)\n",
    "    v4 = session.run(b1)\n",
    "    print(v4)\n",
    "    replace_dict = {a1: 200}\n",
    "    v5 = session.run(b1, feed_dict=replace_dict)\n",
    "    print(v5)"
   ]
  },
  {
   "cell_type": "markdown",
   "metadata": {},
   "source": [
    "### 11.12 TensorFlow中的占位符placeholder对象\n",
    "&emsp;&emsp;可以使用占位符先定义运算式子，等到拿到数据合适的时候再使用`run()`方法的`feed_dict`参数传入具体数值。"
   ]
  },
  {
   "cell_type": "code",
   "execution_count": 14,
   "metadata": {},
   "outputs": [
    {
     "name": "stdout",
     "output_type": "stream",
     "text": [
      "70.0\n"
     ]
    }
   ],
   "source": [
    "import tensorflow as tf\n",
    "\n",
    "a = tf.placeholder(tf.float32, name='input_1')\n",
    "b = tf.placeholder(tf.float32, name='input_2')\n",
    "output = tf.multiply(a, b, name='output')\n",
    "input_dict = {a: 7.0, b: 10.0}\n",
    "with tf.Session() as sess:\n",
    "    print(sess.run(output, feed_dict=input_dict))"
   ]
  },
  {
   "cell_type": "markdown",
   "metadata": {},
   "source": [
    "### 11.13 TensorFlow中的变量Variable对象\n",
    "&emsp;&emsp;我们在前面创建的张量全部都是静态的`tensor`对象，是不可变的（`feed_dict`的作用了解一下）。在数据流图中，一旦一个普通的`tensor`经历过一次操作之后就会转换成另外一个`tensor`。当一个`tensor`的使命完成之后就会被系统回收掉，那我们怎么样来迭代计算呢？这时候就需要使用`TensorFlow`中的变量`Vairiable`对象。  \n",
    "&emsp;&emsp;`Vairiable`对象可以在内存中常驻并不会轻易回收掉的`tensor`，只要你不想让这个对象用完就被回收掉，可能用多次，不管他的值会不会发生变化，那么就请用`vairiable`对象吧。"
   ]
  },
  {
   "cell_type": "code",
   "execution_count": 21,
   "metadata": {},
   "outputs": [
    {
     "name": "stdout",
     "output_type": "stream",
     "text": [
      "更新前:my_state =  0\n",
      "第1次执行更新:my_state =  1\n",
      "第2次执行更新:my_state =  2\n",
      "第3次执行更新:my_state =  3\n",
      "第4次执行更新:my_state =  4\n"
     ]
    }
   ],
   "source": [
    "import tensorflow as tf\n",
    "my_state=tf.Variable(0,name='counter')\n",
    "one=tf.constant(1)\n",
    "new_value=tf.add(my_state,one)\n",
    "# 更新my_state的op：\n",
    "update=tf.assign(my_state,new_value)\n",
    "init_OP=tf.global_variables_initializer()\n",
    "# 执行上面的op：\n",
    "with tf.Session() as sess:\n",
    "    sess.run(init_OP)\n",
    "    print('更新前:my_state = ',sess.run(my_state))\n",
    "    for i in range(4):\n",
    "        sess.run(update)\n",
    "        print('第{}次执行更新:my_state = '.format(i+1),sess.run(my_state))"
   ]
  },
  {
   "cell_type": "code",
   "execution_count": null,
   "metadata": {},
   "outputs": [],
   "source": []
  }
 ],
 "metadata": {
  "kernelspec": {
   "display_name": "Python 3",
   "language": "python",
   "name": "python3"
  },
  "language_info": {
   "codemirror_mode": {
    "name": "ipython",
    "version": 3
   },
   "file_extension": ".py",
   "mimetype": "text/x-python",
   "name": "python",
   "nbconvert_exporter": "python",
   "pygments_lexer": "ipython3",
   "version": "3.6.6"
  }
 },
 "nbformat": 4,
 "nbformat_minor": 2
}
