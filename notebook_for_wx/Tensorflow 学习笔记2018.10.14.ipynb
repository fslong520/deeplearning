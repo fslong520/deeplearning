{
 "cells": [
  {
   "attachments": {},
   "cell_type": "markdown",
   "metadata": {},
   "source": [
    "# 01-Tensorflow 学习笔记之安装相关\n",
    "---\n",
    "### 安装方法\n",
    "&emsp;&emsp;<font color='#ff0000'>*暂且只说cpu版本的，因为我买不起gtx2080。*</font>  \n",
    "**方法1、**   \n",
    "&emsp;&emsp;直接`pip3 install tensorflow`安装通用版本；  \n",
    "**方法2、**  \n",
    "针对自己计算机安装编译好的特定版本的轮文件：  \n",
    "1. 前往GitHub搜索tensorflow；\n",
    "2. 根据你电脑系统情况下载编译好的轮文件，笔者是Intel的cpu，64位系统，Linux系统，python3.6，下载如图所示版本：![1.根据你的cpu下载tensorflow.png](https://i.loli.net/2018/10/14/5bc2ba7499c2d.png)\n",
    "3. cd到下载下来的轮文件（比如我下下来是`tensorflow-1.10.0-cp36-cp36m-linux_x86_64.whl`)所在目录，`pip3 install tensorflow-1.10.0-cp36-cp36m-linux_x86_64.whl`即可完成安装。\n",
    "---\n",
    "### 安装中的坑  \n",
    "1. 方法1中的方法安装的是通用x86版本的tensorflow，比如笔者的电脑如果这种方法安装会报错：\n",
    "    ```\n",
    "    2018-10-14 10:11:46.160468: I tensorflow/core/platform/cpu_feature_guard.cc:141] Your CPU supports instructions that this TensorFlow binary was not compiled to use: AVX2 FMA\n",
    "    ``` \n",
    "    意思是针对你电脑cpu有专门版本的tensorflow，支持专门的指令集。别看这个报错是个`warning`而已，他很可能会导致后续你的numpy依赖出问题，装哪个版本都会报warning，而且你cpu的运算效率会大大降低。虽然程序能够正常执行，但总看这些warning多难受呀，所以建议用方法2安装；\n",
    "2. 方法2中如果你用的是`pipenv`虚拟环境，直接运行`pipenv install tensorflow-1.10.0-cp36-cp36m-linux_x86_64.whl`会报错，此时我们可以进入`pipenv shell`然后运行`pip3 install tensorflow-1.10.0-cp36-cp36m-linux_x86_64.whl`即可安装本地轮文件版本的tensorflow，这时一切正常。\n",
    "---"
   ]
  },
  {
   "cell_type": "code",
   "execution_count": null,
   "metadata": {},
   "outputs": [],
   "source": []
  }
 ],
 "metadata": {
  "kernelspec": {
   "display_name": "Python 3",
   "language": "python",
   "name": "python3"
  },
  "language_info": {
   "codemirror_mode": {
    "name": "ipython",
    "version": 3
   },
   "file_extension": ".py",
   "mimetype": "text/x-python",
   "name": "python",
   "nbconvert_exporter": "python",
   "pygments_lexer": "ipython3",
   "version": "3.6.6"
  }
 },
 "nbformat": 4,
 "nbformat_minor": 2
}
